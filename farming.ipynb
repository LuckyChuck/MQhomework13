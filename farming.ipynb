{
 "cells": [
  {
   "cell_type": "code",
   "execution_count": 1,
   "metadata": {},
   "outputs": [],
   "source": [
    "import  pulp\n",
    "import numpy as np\n",
    "#定义问题"
   ]
  },
  {
   "cell_type": "code",
   "execution_count": 5,
   "metadata": {},
   "outputs": [],
   "source": [
    "#定义问题\n",
    "def farming_problem (costs,x_max,y_max):\n",
    "    row = len(costs)\n",
    "    col = len(costs[0])\n",
    "    print(row,'\\t',col)\n",
    "    #定义问题,最大化问题\n",
    "    prob = pulp.LpProblem('farming',sense=pulp.LpMaximize)\n",
    "    #定义决策变量，将变量维度进行设置，一共4行，每行6个变量的二维数组\n",
    "    var = [[pulp.LpVariable(f'x{i}{j}',lowBound=0,cat=pulp.LpInteger) for j in range(col)] for i in range(row)]\n",
    "    print(var)\n",
    "\n",
    "    #递归展开列表 降数组降维成一维数组\n",
    "    flatten = lambda x:[y for l in x for y in flatten(l)] if type(x) is list else [x]\n",
    "    print('flatten:',flatten)\n",
    "\n",
    "    #定义目标函数，将变量与花费相乘，相当于500 * x1,550 * x2,630 * x3,1000 * x4,800 * x5,700 * x6\n",
    "    prob +=pulp.lpDot(flatten(var),costs.flatten())\n",
    "    #定义约束条件\n",
    "    for i in range(row):#每行之和小于行约束条件\n",
    "        prob +=pulp.lpSum(var[i]) <=x_max[i]\n",
    "    for j in range(col):#每列之和小于列约束条件\n",
    "        prob += pulp.lpSum(var[i][j] for i in range(row)) <= y_max[i]\n",
    "    prob.solve()#求解\n",
    "\n",
    "    result = {'obj':pulp.value(prob.objective)\n",
    "              ,'var':[[pulp.value(var[i][j]) for j in range(col)] for i in range(row)]}\n",
    "\n",
    "    return  result\n"
   ]
  },
  {
   "cell_type": "code",
   "execution_count": 6,
   "metadata": {},
   "outputs": [],
   "source": [
    "costs = np.array([[500,550,630,1000,800,700],\n",
    "                  [800,700,600,950,900,930],\n",
    "                  [1000,960,840,650,60,700],\n",
    "                  [1200,1040,980,860,880,780]])\n",
    "\n",
    "# print(costs)\n",
    "\n",
    "#最大产量\n",
    "max_plant = [76,88,96,40]\n",
    "max_area = [42,56,44,39,60,59]\n"
   ]
  },
  {
   "cell_type": "code",
   "execution_count": 7,
   "metadata": {},
   "outputs": [
    {
     "name": "stdout",
     "output_type": "stream",
     "text": [
      "4 \t 6\n",
      "[[x00, x01, x02, x03, x04, x05], [x10, x11, x12, x13, x14, x15], [x20, x21, x22, x23, x24, x25], [x30, x31, x32, x33, x34, x35]]\n",
      "flatten: <function farming_problem.<locals>.<lambda> at 0x000002243B53A558>\n",
      "{'obj': 227510.0, 'var': [[0.0, 0.0, 0.0, 39.0, 0.0, 0.0], [0.0, 0.0, 0.0, 0.0, 39.0, 39.0], [0.0, 39.0, 38.0, 0.0, 0.0, 0.0], [39.0, 0.0, 1.0, 0.0, 0.0, 0.0]]}\n"
     ]
    }
   ],
   "source": [
    "#使用线性规划\n",
    "\n",
    "result = farming_problem(costs,max_plant,max_area)\n",
    "\n",
    "print(result)"
   ]
  },
  {
   "cell_type": "code",
   "execution_count": null,
   "metadata": {},
   "outputs": [],
   "source": []
  }
 ],
 "metadata": {
  "kernelspec": {
   "display_name": "Python 3",
   "language": "python",
   "name": "python3"
  },
  "language_info": {
   "codemirror_mode": {
    "name": "ipython",
    "version": 3
   },
   "file_extension": ".py",
   "mimetype": "text/x-python",
   "name": "python",
   "nbconvert_exporter": "python",
   "pygments_lexer": "ipython3",
   "version": "3.7.4"
  }
 },
 "nbformat": 4,
 "nbformat_minor": 2
}
